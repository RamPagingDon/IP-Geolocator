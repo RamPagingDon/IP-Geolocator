{
 "cells": [
  {
   "cell_type": "code",
   "execution_count": 2,
   "id": "e92ae8e4",
   "metadata": {},
   "outputs": [],
   "source": [
    "from PyQt5.QtWidgets import *\n",
    "from PyQt5.QtGui import QFont\n",
    "def GeoLocateFrame():\n",
    "    '''Funtion to create a interactive GUI Frame\n",
    "    \n",
    "    This function creates an application window where user can input ip address they want to geolocate.\n",
    "    By connecting the push button with the logic function of the code allows the program to have an interactive user friendly interface\n",
    "    '''\n",
    "    app = QApplication([])\n",
    "    window = QWidget()\n",
    "    window.setGeometry(200,200,300,200)\n",
    "    window.setWindowTitle(\"IP Geolocator\")\n",
    "    label = QLabel(window)\n",
    "    label.setText(\"IP Address: \")\n",
    "    label.setFont(QFont(\"Times New Roman\", 16))\n",
    "    label.move(2,25)\n",
    "    inp = QTextEdit(window)\n",
    "    inp.setGeometry(2,50,296,55)\n",
    "    inp.clear()\n",
    "    find = QPushButton(\"Find Geolocation\",window)\n",
    "    find.setGeometry(85,120,150,67)\n",
    "    find.clicked.connect(lambda: IP_locate(inp.toPlainText().strip()))\n",
    "    window.show()\n",
    "    app.exec_()"
   ]
  },
  {
   "cell_type": "code",
   "execution_count": 3,
   "id": "3ea6480a",
   "metadata": {},
   "outputs": [],
   "source": [
    "import requests\n",
    "import webbrowser\n",
    "def IP_locate(ip_address):\n",
    "    '''This function acts as the logic funtion for IP geolocation\n",
    "    \n",
    "    The function takes IP address as an parameter argument, This argument is concatted with the IP API URL to fetch the geographical information of that IP.\n",
    "    All the geographical information is stored in an Dictionary which is used to access the latitude longitude as well as check whether IP location Query had succeded or failed.\n",
    "    '''\n",
    "    ipinfo = {}\n",
    "    ip_web = f\"http://ip-api.com/json/{ip_address}\"\n",
    "    ipinfo = requests.get(ip_web).json()\n",
    "    status = ipinfo.get('status')\n",
    "    print(ipinfo)\n",
    "    if status == \"success\" :\n",
    "        web_url = f\"https://earth.google.com/web/search/{ipinfo.get('lat')}+{ipinfo.get('lon')}/\"\n",
    "        webbrowser.open(web_url)\n",
    "    else:\n",
    "        message = QMessageBox()\n",
    "        message.setText(f\"Geolocation Query FAILED!!\\nERROR: {ipinfo.get('message')}\")\n",
    "        message.setFont(QFont(\"Times New Roman\", 12))\n",
    "        message.exec_()\n",
    "    ipinfo.clear()"
   ]
  },
  {
   "cell_type": "code",
   "execution_count": null,
   "id": "01b2253a",
   "metadata": {},
   "outputs": [
    {
     "name": "stdout",
     "output_type": "stream",
     "text": [
      "{'status': 'success', 'country': 'Australia', 'countryCode': 'AU', 'region': 'QLD', 'regionName': 'Queensland', 'city': 'South Brisbane', 'zip': '4101', 'lat': -27.4767, 'lon': 153.017, 'timezone': 'Australia/Brisbane', 'isp': 'Resource Quality Assurance', 'org': 'Resource Quality Assurance', 'as': '', 'query': '1.2.3.4'}\n",
      "{'status': 'success', 'country': 'Australia', 'countryCode': 'AU', 'region': 'QLD', 'regionName': 'Queensland', 'city': 'South Brisbane', 'zip': '4101', 'lat': -27.4767, 'lon': 153.017, 'timezone': 'Australia/Brisbane', 'isp': 'Resource Quality Assurance', 'org': 'Resource Quality Assurance', 'as': '', 'query': '1.2.3.4'}\n",
      "{'status': 'success', 'country': 'Australia', 'countryCode': 'AU', 'region': 'QLD', 'regionName': 'Queensland', 'city': 'South Brisbane', 'zip': '4101', 'lat': -27.4767, 'lon': 153.017, 'timezone': 'Australia/Brisbane', 'isp': 'Resource Quality Assurance', 'org': 'Resource Quality Assurance', 'as': '', 'query': '1.2.3.4'}\n",
      "{'status': 'success', 'country': 'India', 'countryCode': 'IN', 'region': 'MH', 'regionName': 'Maharashtra', 'city': 'Pune', 'zip': '411001', 'lat': 18.6161, 'lon': 73.7286, 'timezone': 'Asia/Kolkata', 'isp': 'Reliance Jio Infocomm Limited', 'org': 'Reliance Jio Infocomm Limited', 'as': 'AS55836 Reliance Jio Infocomm Limited', 'query': '152.57.241.214'}\n"
     ]
    }
   ],
   "source": [
    "if __name__ == '__main__':\n",
    "    GeoLocateFrame()"
   ]
  },
  {
   "cell_type": "code",
   "execution_count": null,
   "id": "f742b196",
   "metadata": {},
   "outputs": [],
   "source": []
  }
 ],
 "metadata": {
  "kernelspec": {
   "display_name": "Python 3 (ipykernel)",
   "language": "python",
   "name": "python3"
  },
  "language_info": {
   "codemirror_mode": {
    "name": "ipython",
    "version": 3
   },
   "file_extension": ".py",
   "mimetype": "text/x-python",
   "name": "python",
   "nbconvert_exporter": "python",
   "pygments_lexer": "ipython3",
   "version": "3.9.13"
  }
 },
 "nbformat": 4,
 "nbformat_minor": 5
}
